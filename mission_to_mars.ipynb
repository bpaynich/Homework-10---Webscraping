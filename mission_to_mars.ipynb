{
 "cells": [
  {
   "cell_type": "code",
   "execution_count": 131,
   "metadata": {},
   "outputs": [],
   "source": [
    " # Dependencies\n",
    "import pandas as pd\n",
    "from bs4 import BeautifulSoup\n",
    "from splinter import Browser\n",
    "import requests\n",
    "import pymongo"
   ]
  },
  {
   "cell_type": "code",
   "execution_count": 156,
   "metadata": {},
   "outputs": [
    {
     "data": {
      "text/plain": [
       "'\\n\\nMarch 4, 2019\\nColorful Mawrth Vallis\\n\\n\\n\\n\\n\\n\\n\\n\\nMarch 4, 2019\\n\\r\\n\\t\\t\\t\\t\\t\\t\\t\\t\\t\\t  Colorful Mawrth Vallis\\r\\n\\t\\t\\t\\t\\t\\t\\t\\t\\t\\t\\n\\r\\n\\t\\t\\t\\t\\t\\t\\t\\t\\t\\t  This image acquired on February 7, 2019 by NASAs Mars Reconnaissance Orbiter, shows Mawrth Vallis, a place on Mars that has fascinated scientists because of the clays and other hydrated minerals detected from orbit.\\r\\n\\t\\t\\t\\t\\t\\t\\t\\t\\t\\t\\n\\n'"
      ]
     },
     "execution_count": 156,
     "metadata": {},
     "output_type": "execute_result"
    }
   ],
   "source": [
    "# URL of page to be scraped\n",
    "url = 'https://mars.nasa.gov/news/?page=1&per_page=40&order=publish_date+desc%2Ccreated_at+desc&search=&category=19%2C165%2C184%2C204&blank_scope=Latest'\n",
    "# Retrieve page with the requests module\n",
    "soup = BeautifulSoup(response.text, 'html.parser')\n",
    "\n",
    "news_title = soup.find(\"div\", class_=\"image_and_description_container\").get_text()\n",
    "news_title\n"
   ]
  },
  {
   "cell_type": "code",
   "execution_count": 145,
   "metadata": {},
   "outputs": [],
   "source": [
    "# URL of page to be scraped\n",
    "url = 'https://www.jpl.nasa.gov/spaceimages/?search=&category=Mars'\n",
    "response = requests.get(url)\n",
    "# Create BeautifulSoup object; parse with 'lxml'\n",
    "soup = BeautifulSoup(response.text, 'html.parser')\n"
   ]
  },
  {
   "cell_type": "code",
   "execution_count": 14,
   "metadata": {},
   "outputs": [
    {
     "name": "stdout",
     "output_type": "stream",
     "text": [
      "InSight sol 95 (2019-03-03) low -95.2ºC (-139.3ºF) high -15.8ºC (3.6ºF)\n",
      "winds from the SW at 4.8 m/s (10.8 mph) gusting to 13.2 m/s (29.4 mph)\n",
      "pressure at 7.20 hPapic.twitter.com/gHDxx6Ij21\n"
     ]
    }
   ],
   "source": [
    "# Current Mars Weather\n",
    "url = 'https://twitter.com/marswxreport?lang=en'\n",
    "# Retrieve page with the requests module\n",
    "response = requests.get(url)\n",
    "soup = BeautifulSoup(response.text, 'html.parser')\n",
    "tweets = soup.find_all(\"p\",{\"class\": \"TweetTextSize TweetTextSize--normal js-tweet-text tweet-text\"})\n",
    "\n",
    "mars_weather = tweets[0].text\n",
    "print(mars_weather)"
   ]
  },
  {
   "cell_type": "code",
   "execution_count": 61,
   "metadata": {},
   "outputs": [
    {
     "data": {
      "text/plain": [
       "[('Equatorial Diameter:', '6,792 km\\n'),\n",
       " ('Polar Diameter:', '6,752 km\\n'),\n",
       " ('Mass:', '6.42 x 10^23 kg (10.7% Earth)'),\n",
       " ('Moons:', '2 (Phobos & Deimos)'),\n",
       " ('Orbit Distance:', '227,943,824 km (1.52 AU)'),\n",
       " ('Orbit Period:', '687 days (1.9 years)\\n'),\n",
       " ('Surface Temperature: ', '-153 to 20 °C'),\n",
       " ('First Record:', '2nd millennium BC'),\n",
       " ('Recorded By:', 'Egyptian astronomers')]"
      ]
     },
     "execution_count": 61,
     "metadata": {},
     "output_type": "execute_result"
    }
   ],
   "source": [
    "# Mars Facts\n",
    "col1 = []\n",
    "col2 = []\n",
    "\n",
    "# Retrieve page with the requests module\n",
    "url = 'https://space-facts.com/mars/'\n",
    "response = requests.get(url)\n",
    "soup_mf = BeautifulSoup(response.text, 'html.parser')\n",
    "\n",
    "mf1 = soup_mf.find_all(\"td\",{\"class\": \"column-1\"})\n",
    "\n",
    "for item in mf1:\n",
    "    col1.append(item.find_all(\"strong\")[0].text)\n",
    "    \n",
    "mf2 = soup_mf.find_all(\"td\",{\"class\": \"column-2\"})\n",
    "\n",
    "for item2 in mf2:\n",
    "    col2.append(item2.get_text())\n",
    "    \n",
    "mars_facts = list(zip(col1, col2))\n",
    "mars_facts"
   ]
  },
  {
   "cell_type": "code",
   "execution_count": 87,
   "metadata": {},
   "outputs": [],
   "source": [
    "img_url_list = ['https://astropedia.astrogeology.usgs.gov/download/Mars/Viking/cerberus_enhanced.tif/full.jpg', \\\n",
    "                'https://astropedia.astrogeology.usgs.gov/download/Mars/Viking/schiaparelli_enhanced.tif/full.jpg', \\\n",
    "                'https://astropedia.astrogeology.usgs.gov/download/Mars/Viking/syrtis_major_enhanced.tif/full.jpg', \\\n",
    "                'https://astropedia.astrogeology.usgs.gov/download/Mars/Viking/valles_marineris_enhanced.tif/full.jpg']"
   ]
  },
  {
   "cell_type": "code",
   "execution_count": 90,
   "metadata": {},
   "outputs": [],
   "source": [
    "title_list = ['Cerberus Hemisphere Enhanced', \\\n",
    "              'Schiaparelli Hemisphere Enhanced',\\ \n",
    "              'Syrtis Major Enhanced', \n",
    "              'Valles Marineris Enhanced']"
   ]
  },
  {
   "cell_type": "code",
   "execution_count": 100,
   "metadata": {},
   "outputs": [
    {
     "data": {
      "text/plain": [
       "[('Cerberus Hemisphere Enhanced',\n",
       "  'https://astropedia.astrogeology.usgs.gov/download/Mars/Viking/cerberus_enhanced.tif/full.jpg'),\n",
       " ('Schiaparelli Hemisphere Enhanced',\n",
       "  'https://astropedia.astrogeology.usgs.gov/download/Mars/Viking/schiaparelli_enhanced.tif/full.jpg'),\n",
       " ('Syrtis Major Enhanced',\n",
       "  'https://astropedia.astrogeology.usgs.gov/download/Mars/Viking/syrtis_major_enhanced.tif/full.jpg'),\n",
       " ('Valles Marineris Enhanced',\n",
       "  'https://astropedia.astrogeology.usgs.gov/download/Mars/Viking/valles_marineris_enhanced.tif/full.jpg')]"
      ]
     },
     "execution_count": 100,
     "metadata": {},
     "output_type": "execute_result"
    }
   ],
   "source": [
    "hemisphere_image_list = list(zip(title_list, img_url_list))\n",
    "hemisphere_image_list"
   ]
  },
  {
   "cell_type": "code",
   "execution_count": 97,
   "metadata": {},
   "outputs": [],
   "source": [
    "hemisphere_image_urls = [\n",
    "    {\"title\": \"Valles Marineris Hemisphere\", \"img_url\": \"https://astropedia.astrogeology.usgs.gov/download/Mars/Viking/valles_marineris_enhanced.tif/full.jpg\"},\n",
    "    {\"title\": \"Cerberus Hemisphere\", \"img_url\": \"https://astropedia.astrogeology.usgs.gov/download/Mars/Viking/cerberus_enhanced.tif/full.jpg\"},\n",
    "    {\"title\": \"Schiaparelli Hemisphere\", \"img_url\": \"https://astropedia.astrogeology.usgs.gov/download/Mars/Viking/schiaparelli_enhanced.tif/full.jpg\"},\n",
    "    {\"title\": \"Syrtis Major Hemisphere\", \"img_url\": \"https://astropedia.astrogeology.usgs.gov/download/Mars/Viking/syrtis_major_enhanced.tif/full.jpg\"},\n",
    "]"
   ]
  },
  {
   "cell_type": "code",
   "execution_count": 98,
   "metadata": {},
   "outputs": [
    {
     "data": {
      "text/plain": [
       "[{'title': 'Valles Marineris Hemisphere',\n",
       "  'img_url': 'https://astropedia.astrogeology.usgs.gov/download/Mars/Viking/valles_marineris_enhanced.tif/full.jpg'},\n",
       " {'title': 'Cerberus Hemisphere',\n",
       "  'img_url': 'https://astropedia.astrogeology.usgs.gov/download/Mars/Viking/cerberus_enhanced.tif/full.jpg'},\n",
       " {'title': 'Schiaparelli Hemisphere',\n",
       "  'img_url': 'https://astropedia.astrogeology.usgs.gov/download/Mars/Viking/schiaparelli_enhanced.tif/full.jpg'},\n",
       " {'title': 'Syrtis Major Hemisphere',\n",
       "  'img_url': 'https://astropedia.astrogeology.usgs.gov/download/Mars/Viking/syrtis_major_enhanced.tif/full.jpg'}]"
      ]
     },
     "execution_count": 98,
     "metadata": {},
     "output_type": "execute_result"
    }
   ],
   "source": [
    "hemisphere_image_urls"
   ]
  },
  {
   "cell_type": "code",
   "execution_count": null,
   "metadata": {},
   "outputs": [],
   "source": []
  }
 ],
 "metadata": {
  "kernelspec": {
   "display_name": "Python 3",
   "language": "python",
   "name": "python3"
  },
  "language_info": {
   "codemirror_mode": {
    "name": "ipython",
    "version": 3
   },
   "file_extension": ".py",
   "mimetype": "text/x-python",
   "name": "python",
   "nbconvert_exporter": "python",
   "pygments_lexer": "ipython3",
   "version": "3.7.0"
  }
 },
 "nbformat": 4,
 "nbformat_minor": 2
}
